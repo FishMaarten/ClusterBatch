{
 "cells": [
  {
   "cell_type": "code",
   "execution_count": 1,
   "metadata": {},
   "outputs": [],
   "source": [
    "import pandas as pd\n",
    "import numpy as np\n",
    "import swifter\n",
    "import json\n",
    "import math\n",
    "import time\n",
    "import re\n",
    "\n",
    "import matplotlib.pyplot as plt\n",
    "\n",
    "from sklearn.cluster import DBSCAN\n",
    "\n",
    "from nltk.tokenize import RegexpTokenizer"
   ]
  },
  {
   "cell_type": "code",
   "execution_count": 2,
   "metadata": {},
   "outputs": [],
   "source": [
    "labeled = pd.read_csv(\"labeled.csv\", index_col=0)\n",
    "\n",
    "selection_dct = dict(filter(lambda x: x[0] != -1 and x[1] > 5, labeled[\"Label\"].value_counts().items()))\n",
    "selection_a = labeled[labeled[\"Label\"].apply(lambda x: x in selection_dct)]\n",
    "selection_a.reset_index(inplace=True)"
   ]
  },
  {
   "cell_type": "code",
   "execution_count": 17,
   "metadata": {},
   "outputs": [],
   "source": [
    "class ClusterBatch:\n",
    "    def __init__(self, **kwargs):\n",
    "        self._verbose = kwargs[\"verbose\"]\n",
    "        self._kwargs = kwargs\n",
    "        if self._verbose:\n",
    "            print(\"Initiated ClusterBatch:\\n\")\n",
    "            print(\"\\n\".join([\"-\"+str(item)[1:-1] for item in kwargs.items()]))\n",
    "            \n",
    "    @classmethod\n",
    "    def clean_tokens(self, raw_text:str, sub=[r\"\\\\n\"], min_length=1, drop_digits=False) -> [str]:\n",
    "        tokenizer = RegexpTokenizer(r'\\w+')\n",
    "        result = raw_text.lower()\n",
    "        [re.sub(sub, \" \", result) for sub in sub]\n",
    "        result = [\n",
    "            token for token in tokenizer.tokenize(result)\n",
    "            if len(token) >= min_length\n",
    "        ]\n",
    "        if drop_digits: return list(filter(lambda x: re.match(r\"\\w*\\d\\w*\", x)==None, result))\n",
    "        else: return result   \n",
    "        \n",
    "    @classmethod\n",
    "    def generate_sparse_matrix(cls, tfidf:list(dict()), head:int=10):\n",
    "        important = list(map(lambda x: dict(sorted(x.items(), key=lambda i: i[1])[::-1][:head]), tfidf))\n",
    "        dimensions = set(np.concatenate(list(map(lambda x:list(x.keys()), important))))\n",
    "        return np.array(list(map(lambda x: [x[idx] if idx in x else 0 for idx in dimensions], important)))\n",
    "\n",
    "    @classmethod\n",
    "    def calculate_cross_distance(cls, matrix):         \n",
    "        non_zero_idxs_matrix = np.array([\n",
    "            np.nonzero(arr)[0]\n",
    "            for arr in matrix]) \n",
    "        \n",
    "        def sparse_vector_distance(idx_a, idx_b):       \n",
    "            idx_concat = np.concatenate((\n",
    "                non_zero_idxs_matrix[idx_a],\n",
    "                non_zero_idxs_matrix[idx_b]))\n",
    "            return math.sqrt(sum(map(\n",
    "                lambda x: (x[1]-x[0])**2, \n",
    "                zip(matrix[idx_a][idx_concat],\n",
    "                    matrix[idx_b][idx_concat]))))\n",
    "        \n",
    "        length = len(matrix)\n",
    "        return np.array([\n",
    "            sparse_vector_distance(i, ii)\n",
    "            for i in range(length)\n",
    "            for ii in range(length)\n",
    "        ]).reshape(length, length)\n",
    "     \n",
    "    def fit(self, raw_text_batch:[str]):\n",
    "        start = time.time()\n",
    "        if self._verbose: print(\"\\nProcessing...\")\n",
    "        self._documents = raw_text_batch\n",
    "        self._length = len(raw_text_batch)\n",
    "        self._tokens = self._documents.apply(ClusterBatch.clean_tokens, drop_digits=True)\n",
    "        if self._verbose: print(\n",
    "            \"Tokenized\", len(self._tokens), \"documents.\")\n",
    "            \n",
    "        self._collection = set(np.concatenate(self._tokens))\n",
    "        self._dictionary = {idx: word for idx, word in enumerate(sorted(self._collection))}\n",
    "        self._dictionary_str = {word: idx for idx, word in self._dictionary.items()}\n",
    "        if self._verbose: print(\n",
    "            \"Dict lookup generated with\", len(self._collection), \"unique words.\\n\")\n",
    "\n",
    "        self._idxs = list(map(lambda x:\n",
    "            list(map(lambda y: self._dictionary_str[y], x)),\n",
    "            self._tokens))\n",
    "        if self._verbose: print(\"Translated to indexes\")\n",
    "        self._counts = list(map(lambda x: \n",
    "            dict(zip(*np.unique(x, return_counts=True))),\n",
    "            self._idxs))\n",
    "        if self._verbose: print(\"Counting indexes\\n\")\n",
    "        \n",
    "        self._term_freq = list(map(lambda x: \n",
    "            {k:v/len(self._tokens[x[0]]) for k,v in x[1].items()},\n",
    "            enumerate(self._counts)))\n",
    "        if self._verbose: print(\"Calculated term frequencies\")\n",
    "            \n",
    "        self._batch_freq = {idx: \n",
    "            sum(map(lambda doc: idx in doc, self._counts)) \n",
    "            for idx in self._dictionary}\n",
    "        if self._verbose: print(\"Number of documents containing each term\")\n",
    "        \n",
    "        self._dictionary_idf = {idx: \n",
    "            math.log10(self._length / self._batch_freq[idx]) \n",
    "            for idx in self._dictionary}\n",
    "        if self._verbose: print(\"Inverse document frequency\\n\")\n",
    "            \n",
    "        self._tfidf = list(map(lambda x: {idx: \n",
    "            val * self._dictionary_idf[idx] \n",
    "            for idx, val in x.items()\n",
    "            }, self._term_freq))        \n",
    "        if self._verbose: \n",
    "            print(\"Preprocessing finish after\",\n",
    "                  int(time.time()-start),\"seconds.\\n\")\n",
    "            \n",
    "        self._matrix = ClusterBatch.generate_sparse_matrix(self._tfidf)\n",
    "        if self._verbose: print(\"Sparse matrix generated\")\n",
    "        \n",
    "        self._cross_distance = ClusterBatch.calculate_cross_distance(self._matrix)\n",
    "        if self._verbose: \n",
    "            print(\"Cross distance calculated\\n\")\n",
    "            print(\"Fitting finished after\", int(time.time()-start), \"seconds.\")\n",
    "            \n",
    "        return self\n",
    "    \n",
    "    def predict(self, perc):\n",
    "        self._label = DBSCAN(eps=batch.percentile(perc), min_samples=3).fit_predict(batch._matrix)\n",
    "        self._labels = dict(zip(*np.unique(self._label, return_counts=True)))\n",
    "        print(\"Percentile:\", self.percentile(perc))\n",
    "        print(self._labels)\n",
    "        idxs = [idx for idx, label in enumerate(self._label) if label==0]\n",
    "        \n",
    "        return self._label\n",
    "    \n",
    "    def percentile(self, cent:int):\n",
    "        return np.percentile([val for val in np.concatenate(self._cross_distance) if val != 0], cent)\n",
    "    \n",
    "    def plot_distances(self):\n",
    "        plt.hist(list(map(lambda x: np.median(x), self._cross_distance)), bins=20)\n",
    "        plt.show()\n",
    "        plt.plot(list(map(lambda x: np.median(x), sorted(self._cross_distance.T.flatten()))))\n",
    "        plt.show()"
   ]
  },
  {
   "cell_type": "code",
   "execution_count": 18,
   "metadata": {
    "scrolled": false
   },
   "outputs": [
    {
     "name": "stdout",
     "output_type": "stream",
     "text": [
      "Initiated ClusterBatch:\n",
      "\n",
      "-'min_thresh', 0.0\n",
      "-'max_thresh', 100\n",
      "-'min_samples', 3\n",
      "-'verbose', 1\n",
      "\n",
      "Processing...\n",
      "Tokenized 36 documents.\n",
      "Dict lookup generated with 9444 unique words.\n",
      "\n",
      "Translated to indexes\n",
      "Counting indexes\n",
      "\n",
      "Calculated term frequencies\n",
      "Number of documents containing each term\n",
      "Inverse document frequency\n",
      "\n",
      "Preprocessing finish after 2 seconds.\n",
      "\n",
      "Sparse matrix generated\n",
      "Cross distance calculated\n",
      "\n",
      "Fitting finished after 2 seconds.\n"
     ]
    },
    {
     "data": {
      "image/png": "[encoded data removed]",
      "text/plain": [
       "<Figure size 432x288 with 1 Axes>"
      ]
     },
     "metadata": {
      "needs_background": "light"
     },
     "output_type": "display_data"
    },
    {
     "data": {
      "image/png": "[encoded data removed]",
      "text/plain": [
       "<Figure size 432x288 with 1 Axes>"
      ]
     },
     "metadata": {
      "needs_background": "light"
     },
     "output_type": "display_data"
    },
    {
     "name": "stdout",
     "output_type": "stream",
     "text": [
      "Percentile: 0.007926321049114211\n",
      "{-1: 15, 0: 10, 1: 6, 2: 5}\n"
     ]
    }
   ],
   "source": [
    "batch = ClusterBatch(\n",
    "    min_thresh=0.0, max_thresh=100,\n",
    "    min_samples=3, verbose=1,\n",
    ").fit(selection_a[\"Raw\"])\n",
    "\n",
    "batch.plot_distances()\n",
    "label = batch.predict(10)"
   ]
  },
  {
   "cell_type": "markdown",
   "metadata": {},
   "source": [
    "### Add recurrent"
   ]
  }
 ],
 "metadata": {
  "kernelspec": {
   "display_name": "Python 3",
   "language": "python",
   "name": "python3"
  },
  "language_info": {
   "codemirror_mode": {
    "name": "ipython",
    "version": 3
   },
   "file_extension": ".py",
   "mimetype": "text/x-python",
   "name": "python",
   "nbconvert_exporter": "python",
   "pygments_lexer": "ipython3",
   "version": "3.7.6"
  }
 },
 "nbformat": 4,
 "nbformat_minor": 4
}
