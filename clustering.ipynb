{
 "cells": [
  {
   "cell_type": "code",
   "execution_count": 1,
   "metadata": {},
   "outputs": [],
   "source": [
    "import pandas as pd\n",
    "import numpy as np\n",
    "import swifter\n",
    "import json\n",
    "import math\n",
    "import time\n",
    "import ast\n",
    "import re\n",
    "\n",
    "import matplotlib.pyplot as plt\n",
    "from mpl_toolkits.mplot3d import Axes3D\n",
    "\n",
    "from sklearn.cluster import DBSCAN"
   ]
  },
  {
   "cell_type": "code",
   "execution_count": 2,
   "metadata": {},
   "outputs": [
    {
     "data": {
      "text/html": [
       "<div>\n",
       "<style scoped>\n",
       "    .dataframe tbody tr th:only-of-type {\n",
       "        vertical-align: middle;\n",
       "    }\n",
       "\n",
       "    .dataframe tbody tr th {\n",
       "        vertical-align: top;\n",
       "    }\n",
       "\n",
       "    .dataframe thead th {\n",
       "        text-align: right;\n",
       "    }\n",
       "</style>\n",
       "<table border=\"1\" class=\"dataframe\">\n",
       "  <thead>\n",
       "    <tr style=\"text-align: right;\">\n",
       "      <th></th>\n",
       "      <th>Raw</th>\n",
       "      <th>Tokens</th>\n",
       "      <th>Idxs</th>\n",
       "      <th>Count</th>\n",
       "      <th>TF</th>\n",
       "      <th>TFIDF</th>\n",
       "    </tr>\n",
       "  </thead>\n",
       "  <tbody>\n",
       "    <tr>\n",
       "      <th>0</th>\n",
       "      <td>CHARITY\\nTrustees' Annual Report for the perio...</td>\n",
       "      <td>['charity', 'trustee', 'annual', 'report', 'pe...</td>\n",
       "      <td>[9867, 59972, 2629, 50012, 45587, 11583, 45587...</td>\n",
       "      <td>{9867: 38, 59972: 24, 25451: 17, 53034: 17, 41...</td>\n",
       "      <td>{9867: 0.03561387066541706, 59972: 0.022492970...</td>\n",
       "      <td>{9867: 0.00021632391102468634, 59972: 0.000188...</td>\n",
       "    </tr>\n",
       "    <tr>\n",
       "      <th>1</th>\n",
       "      <td>Charity Name\\nNo lif anv)\\nStepping Stone Thea...</td>\n",
       "      <td>['charity', 'name', 'step', 'stone', 'theatre'...</td>\n",
       "      <td>[9867, 41147, 56109, 56292, 58371, 49051, 4517...</td>\n",
       "      <td>{28257: 14, 39077: 12, 41469: 11, 25451: 11, 5...</td>\n",
       "      <td>{28257: 0.020558002936857563, 39077: 0.0176211...</td>\n",
       "      <td>{28257: 1.0339581044892153e-05, 39077: 0.01390...</td>\n",
       "    </tr>\n",
       "    <tr>\n",
       "      <th>2</th>\n",
       "      <td>Promoting Independent Living\\nAbility\\nAbility...</td>\n",
       "      <td>['promote', 'independent', 'living', 'ability'...</td>\n",
       "      <td>[47572, 31069, 36253, 199, 199, 199, 199, 2862...</td>\n",
       "      <td>{64581: 205, 29724: 173, 24031: 157, 3694: 134...</td>\n",
       "      <td>{64581: 0.019462641222823505, 29724: 0.0164245...</td>\n",
       "      <td>{64581: 1.4687262924544409e-05, 29724: 0.01172...</td>\n",
       "    </tr>\n",
       "    <tr>\n",
       "      <th>3</th>\n",
       "      <td>Annua Report &amp;\\nAccounts 2017/18\\nYear ended 3...</td>\n",
       "      <td>['annua', 'report', 'account', 'year', 'end', ...</td>\n",
       "      <td>[2628, 50012, 417, 64581, 19701, 37983, 38872,...</td>\n",
       "      <td>{38872: 310, 673: 227, 58346: 161, 50012: 135,...</td>\n",
       "      <td>{38872: 0.022029562251279135, 673: 0.016131324...</td>\n",
       "      <td>{38872: 0.01178830958827304, 673: 0.0078316821...</td>\n",
       "    </tr>\n",
       "    <tr>\n",
       "      <th>4</th>\n",
       "      <td>The Greenway Centre\\n(Registered charity, numb...</td>\n",
       "      <td>['greenway', 'centre', 'register', 'charity', ...</td>\n",
       "      <td>[27152, 9466, 49509, 9867, 42660, 24031, 55974...</td>\n",
       "      <td>{9867: 20, 417: 16, 9466: 15, 59972: 14, 27152...</td>\n",
       "      <td>{9867: 0.025157232704402517, 417: 0.0201257861...</td>\n",
       "      <td>{9867: 0.00015280874747655764, 417: 7.62037771...</td>\n",
       "    </tr>\n",
       "  </tbody>\n",
       "</table>\n",
       "</div>"
      ],
      "text/plain": [
       "                                                 Raw  \\\n",
       "0  CHARITY\\nTrustees' Annual Report for the perio...   \n",
       "1  Charity Name\\nNo lif anv)\\nStepping Stone Thea...   \n",
       "2  Promoting Independent Living\\nAbility\\nAbility...   \n",
       "3  Annua Report &\\nAccounts 2017/18\\nYear ended 3...   \n",
       "4  The Greenway Centre\\n(Registered charity, numb...   \n",
       "\n",
       "                                              Tokens  \\\n",
       "0  ['charity', 'trustee', 'annual', 'report', 'pe...   \n",
       "1  ['charity', 'name', 'step', 'stone', 'theatre'...   \n",
       "2  ['promote', 'independent', 'living', 'ability'...   \n",
       "3  ['annua', 'report', 'account', 'year', 'end', ...   \n",
       "4  ['greenway', 'centre', 'register', 'charity', ...   \n",
       "\n",
       "                                                Idxs  \\\n",
       "0  [9867, 59972, 2629, 50012, 45587, 11583, 45587...   \n",
       "1  [9867, 41147, 56109, 56292, 58371, 49051, 4517...   \n",
       "2  [47572, 31069, 36253, 199, 199, 199, 199, 2862...   \n",
       "3  [2628, 50012, 417, 64581, 19701, 37983, 38872,...   \n",
       "4  [27152, 9466, 49509, 9867, 42660, 24031, 55974...   \n",
       "\n",
       "                                               Count  \\\n",
       "0  {9867: 38, 59972: 24, 25451: 17, 53034: 17, 41...   \n",
       "1  {28257: 14, 39077: 12, 41469: 11, 25451: 11, 5...   \n",
       "2  {64581: 205, 29724: 173, 24031: 157, 3694: 134...   \n",
       "3  {38872: 310, 673: 227, 58346: 161, 50012: 135,...   \n",
       "4  {9867: 20, 417: 16, 9466: 15, 59972: 14, 27152...   \n",
       "\n",
       "                                                  TF  \\\n",
       "0  {9867: 0.03561387066541706, 59972: 0.022492970...   \n",
       "1  {28257: 0.020558002936857563, 39077: 0.0176211...   \n",
       "2  {64581: 0.019462641222823505, 29724: 0.0164245...   \n",
       "3  {38872: 0.022029562251279135, 673: 0.016131324...   \n",
       "4  {9867: 0.025157232704402517, 417: 0.0201257861...   \n",
       "\n",
       "                                               TFIDF  \n",
       "0  {9867: 0.00021632391102468634, 59972: 0.000188...  \n",
       "1  {28257: 1.0339581044892153e-05, 39077: 0.01390...  \n",
       "2  {64581: 1.4687262924544409e-05, 29724: 0.01172...  \n",
       "3  {38872: 0.01178830958827304, 673: 0.0078316821...  \n",
       "4  {9867: 0.00015280874747655764, 417: 7.62037771...  "
      ]
     },
     "execution_count": 2,
     "metadata": {},
     "output_type": "execute_result"
    }
   ],
   "source": [
    "with open(\"dictionary.json\") as file:\n",
    "    dictionary =      {int(k):v for k,v in json.load(file).items()}\n",
    "with open(\"dictionary_rev.json\") as file:\n",
    "    dictionary_rev =  {k:int(v) for k,v in json.load(file).items()}\n",
    "with open(\"docs_containing.json\") as file:\n",
    "    docs_containing = {int(k):v for k,v in json.load(file).items()}\n",
    "with open(\"dict_idf.json\") as file:\n",
    "    dict_idf =        {int(k):v for k,v in json.load(file).items()}\n",
    "    \n",
    "df = pd.read_csv(\"tfidf.csv\", index_col=0).drop(columns=\"File\")\n",
    "df.head(5)"
   ]
  },
  {
   "cell_type": "code",
   "execution_count": 4,
   "metadata": {},
   "outputs": [
    {
     "data": {
      "application/vnd.jupyter.widget-view+json": {
       "model_id": "baa614b7f4814cf8a582f9a053242f35",
       "version_major": 2,
       "version_minor": 0
      },
      "text/plain": [
       "HBox(children=(FloatProgress(value=0.0, description='Pandas Apply', max=8640.0, style=ProgressStyle(descriptio…"
      ]
     },
     "metadata": {},
     "output_type": "display_data"
    },
    {
     "name": "stdout",
     "output_type": "stream",
     "text": [
      "\n"
     ]
    }
   ],
   "source": [
    "df.iloc[:, 1:] = df.iloc[:,1:].swifter.applymap(ast.literal_eval)"
   ]
  },
  {
   "cell_type": "markdown",
   "metadata": {},
   "source": [
    "# Top 10"
   ]
  },
  {
   "cell_type": "code",
   "execution_count": 4,
   "metadata": {},
   "outputs": [],
   "source": [
    "df[\"Top10\"] = df[\"TFIDF\"].apply(lambda x:\n",
    "    dict(sorted(x.items(), key=lambda i:i[1])[::-1][:10])\n",
    ")"
   ]
  },
  {
   "cell_type": "code",
   "execution_count": 5,
   "metadata": {},
   "outputs": [
    {
     "name": "stdout",
     "output_type": "stream",
     "text": [
      "Top 10 collection contains 7147 unique tokens.. 10.99 % of total dictionary\n"
     ]
    }
   ],
   "source": [
    "top10_collection = []\n",
    "for idx in df.index:\n",
    "    top10_collection.extend(df.loc[idx, \"Top10\"])\n",
    "top10_collection = sorted(set(top10_collection))\n",
    "\n",
    "print(\"Top 10 collection contains\", len(top10_collection), \"unique tokens..\",\n",
    "      round(len(top10_collection)/len(dictionary)*100, 2), \"% of total dictionary\")"
   ]
  },
  {
   "cell_type": "markdown",
   "metadata": {},
   "source": [
    "# Top 25"
   ]
  },
  {
   "cell_type": "code",
   "execution_count": 6,
   "metadata": {},
   "outputs": [],
   "source": [
    "df[\"Top25\"] = df[\"TFIDF\"].apply(lambda x:\n",
    "    dict(sorted(x.items(), key=lambda i:i[1])[::-1][:25])\n",
    ")"
   ]
  },
  {
   "cell_type": "code",
   "execution_count": 7,
   "metadata": {},
   "outputs": [
    {
     "name": "stdout",
     "output_type": "stream",
     "text": [
      "Top 25 collection contains 16330 unique tokens.. 25.12 % of total dictionary\n"
     ]
    }
   ],
   "source": [
    "top25_collection = []\n",
    "for idx in df.index:\n",
    "    top25_collection.extend(df.loc[idx, \"Top25\"])\n",
    "top25_collection = sorted(set(top25_collection))\n",
    "\n",
    "print(\"Top 25 collection contains\", len(top25_collection), \"unique tokens..\",\n",
    "      round(len(top25_collection)/len(dictionary)*100, 2), \"% of total dictionary\")"
   ]
  },
  {
   "cell_type": "markdown",
   "metadata": {},
   "source": [
    "# Top 50"
   ]
  },
  {
   "cell_type": "raw",
   "metadata": {},
   "source": [
    "df[\"Top50\"] = df[\"TFIDF\"].apply(lambda x:\n",
    "    dict(sorted(x.items(), key=lambda i:i[1])[::-1][:50])\n",
    ")"
   ]
  },
  {
   "cell_type": "raw",
   "metadata": {},
   "source": [
    "top50_collection = []\n",
    "for idx in df.index:\n",
    "    top50_collection.extend(df.loc[idx, \"Top50\"])\n",
    "top50_collection = sorted(set(top50_collection))\n",
    "\n",
    "print(\"Top 50 collection contains\", len(top50_collection), \"unique tokens..\",\n",
    "      round(len(top50_collection)/len(dictionary)*100, 2), \"% of total dictionary\")"
   ]
  },
  {
   "cell_type": "markdown",
   "metadata": {},
   "source": [
    "# Top 100"
   ]
  },
  {
   "cell_type": "raw",
   "metadata": {},
   "source": [
    "df[\"Top100\"] = df[\"TFIDF\"].apply(lambda x:\n",
    "    dict(sorted(x.items(), key=lambda i:i[1])[::-1][:100])\n",
    ")"
   ]
  },
  {
   "cell_type": "raw",
   "metadata": {},
   "source": [
    "top100_collection = []\n",
    "for idx in df.index:\n",
    "    top100_collection.extend(df.loc[idx, \"Top100\"])\n",
    "top100_collection = sorted(set(top100_collection))\n",
    "\n",
    "print(\"Top 100 collection contains\", len(top100_collection), \"unique tokens..\",\n",
    "      round(len(top100_collection)/len(dictionary)*100, 2), \"% of total dictionary\")"
   ]
  },
  {
   "cell_type": "markdown",
   "metadata": {},
   "source": [
    "# All Terms"
   ]
  },
  {
   "cell_type": "raw",
   "metadata": {},
   "source": [
    "df[\"All\"] = df[\"TFIDF\"].apply(lambda x:\n",
    "    dict(sorted(x.items(), key=lambda i:i[1])[::-1])\n",
    ")"
   ]
  },
  {
   "cell_type": "raw",
   "metadata": {},
   "source": [
    "    total_collection = []\n",
    "for idx in df.index:\n",
    "    total_collection.extend(df.loc[idx, \"All\"])\n",
    "total_collection = sorted(set(total_collection))\n",
    "\n",
    "print(\"Total collection contains\", len(total_collection), \"unique tokens..\",\n",
    "      round(len(total_collection)/len(dictionary)*100, 2), \"% of total dictionary\")"
   ]
  },
  {
   "cell_type": "markdown",
   "metadata": {},
   "source": [
    "# Collections"
   ]
  },
  {
   "cell_type": "code",
   "execution_count": 8,
   "metadata": {},
   "outputs": [],
   "source": [
    "collections = {\n",
    "    \"Top10\" : top10_collection,\n",
    "    \"Top25\" : top25_collection,\n",
    "    #\"Top50\" : top50_collection,\n",
    "    #\"Top100\": top100_collection,\n",
    "    #\"All\"   : total_collection\n",
    "}"
   ]
  },
  {
   "cell_type": "markdown",
   "metadata": {},
   "source": [
    "## Vectorization"
   ]
  },
  {
   "cell_type": "code",
   "execution_count": 9,
   "metadata": {},
   "outputs": [],
   "source": [
    "def set_vector(top_x: str=\"Top10\") -> None:\n",
    "    df[\"Vector\"] = df[top_x].swifter.apply(lambda x: \n",
    "        list(map(lambda idx: x[idx] if idx in x else 0, collections[top_x]))\n",
    "    )"
   ]
  },
  {
   "cell_type": "markdown",
   "metadata": {},
   "source": [
    "# Matrix"
   ]
  },
  {
   "cell_type": "code",
   "execution_count": 10,
   "metadata": {},
   "outputs": [
    {
     "data": {
      "application/vnd.jupyter.widget-view+json": {
       "model_id": "b5e08a01e63842f999ba3579a44abfc5",
       "version_major": 2,
       "version_minor": 0
      },
      "text/plain": [
       "HBox(children=(FloatProgress(value=0.0, description='Pandas Apply', max=1728.0, style=ProgressStyle(descriptio…"
      ]
     },
     "metadata": {},
     "output_type": "display_data"
    },
    {
     "name": "stdout",
     "output_type": "stream",
     "text": [
      "\n",
      "Top10 matrix shape: (1728, 7147)\n",
      "Total elements: 12350016\n"
     ]
    }
   ],
   "source": [
    "string = \"Top10\"\n",
    "set_vector(string)\n",
    "matrix = np.array(list(map(np.array, df[\"Vector\"])))\n",
    "\n",
    "print(string, \"matrix shape:\", matrix.shape)\n",
    "print(\"Total elements:\", matrix.shape[0] *matrix.shape[1])"
   ]
  },
  {
   "cell_type": "raw",
   "metadata": {},
   "source": [
    "del(df)"
   ]
  },
  {
   "cell_type": "code",
   "execution_count": null,
   "metadata": {},
   "outputs": [],
   "source": [
    "from sklearn.decomposition import PCA\n",
    "#digits = datasets.load_digits()\n",
    "#clst = KMeans(n_clusters=10).fit(digits.data)\n",
    "#digits_2d = PCA(n_components=2).fit_transform(digits.data)\n",
    "matrix_3d = PCA(n_components=100).fit_transform(matrix)\n",
    "#df = DataFrame(digits.data)\n",
    "#df[\"cluster\"] = clst.predict(digits.data)\n",
    "#df[\"label\"] = digits.target\n",
    "#df[\"x\"] = digits_3d[:,0]\n",
    "#df[\"y\"] = digits_3d[:,1]\n",
    "#df[\"z\"] = digits_3d[:,2]\n",
    "#print(\"Accuracy:\", round(metrics.accuracy_score(df.label, df.cluster), 2), \"%\")\n",
    "\n",
    "#for lab in df[\"cluster\"].unique():\n",
    "#    data = df[df[\"cluster\"] == lab]\n",
    "#    plt.scatter(data.x, data.y)\n",
    "#plt.show()\n",
    "\n"
   ]
  },
  {
   "cell_type": "code",
   "execution_count": 22,
   "metadata": {},
   "outputs": [
    {
     "data": {
      "text/plain": [
       "<matplotlib.collections.PathCollection at 0x7f3b08b2ba90>"
      ]
     },
     "execution_count": 22,
     "metadata": {},
     "output_type": "execute_result"
    },
    {
     "data": {
      "image/png": "[encoded data removed]",
      "text/plain": [
       "<Figure size 432x288 with 1 Axes>"
      ]
     },
     "metadata": {
      "needs_background": "light"
     },
     "output_type": "display_data"
    }
   ],
   "source": [
    "plt.scatter(matrix_3d[:, 7],matrix_3d[:, 6])"
   ]
  },
  {
   "cell_type": "markdown",
   "metadata": {},
   "source": [
    "# DBSCAN\n",
    "Density based over kmeans because **n_clusters unknown**"
   ]
  },
  {
   "cell_type": "markdown",
   "metadata": {},
   "source": [
    "### Meta EPS\n",
    "\n",
    "EPS: 0.10555555555555556, 32 clusters (-1: 795,  0: 783, rest: 5)  \n",
    "EPS: 0.08333333333333333, 48 clusters (-1: 1089, 0: 409, rest: 5)"
   ]
  },
  {
   "cell_type": "raw",
   "metadata": {},
   "source": [
    "for eps in np.linspace(.05,.15,10):\n",
    "    df[\"Dbscan\"] = DBSCAN(eps=eps, min_samples=5).fit_predict(matrix)\n",
    "    print(f\"EPS: {eps}, {df['Dbscan'].nunique()} clusters\")\n",
    "    print(df[\"Dbscan\"].value_counts())"
   ]
  },
  {
   "cell_type": "markdown",
   "metadata": {},
   "source": [
    "### Meta min_samples\n",
    "\n",
    "Clusters break apart *x>5* using **top10** terms"
   ]
  },
  {
   "cell_type": "raw",
   "metadata": {
    "collapsed": true
   },
   "source": [
    "for min_samples in range(3,8):\n",
    "    df[\"Dbscan\"] = DBSCAN(eps=0.10555555555555556, min_samples=min_samples).fit_predict(matrix)\n",
    "    print(f\"Min samples: {min_samples}, {df['Dbscan'].nunique()} clusters\")\n",
    "    print(df[\"Dbscan\"].value_counts())"
   ]
  },
  {
   "cell_type": "markdown",
   "metadata": {},
   "source": [
    "### Meta match\n",
    "Finding optimal epsilon value"
   ]
  },
  {
   "cell_type": "raw",
   "metadata": {},
   "source": [
    "for eps in np.linspace(.08, .12, 10):\n",
    "    start = time.time()\n",
    "    df[\"Dbscan\"] = DBSCAN(eps=eps, min_samples=3).fit_predict(matrix)\n",
    "    print(\"Clustering took\", round(time.time() -start, 2), \"seconds.\")\n",
    "    start = time.time()\n",
    "    \n",
    "    print(\"Epsilon:\", eps)\n",
    "    print(\"Total\", df[\"Dbscan\"].nunique(), \"clusters found\")\n",
    "    print(\"Still\", df[\"Dbscan\"].value_counts()[0], \"docs in the BLOB\")\n",
    "    print(\"There are\", df[\"Dbscan\"].value_counts()[-1], \"OUTLIERS\")\n",
    "    for clusters in df[\"Dbscan\"].value_counts()[2:].value_counts().items():\n",
    "        print(\"Found\", clusters[1], \"clusters of\", clusters[0])\n",
    "    print(\"\\n\")"
   ]
  },
  {
   "cell_type": "markdown",
   "metadata": {},
   "source": [
    "### Apply meta dbscan"
   ]
  },
  {
   "cell_type": "code",
   "execution_count": 11,
   "metadata": {},
   "outputs": [
    {
     "name": "stdout",
     "output_type": "stream",
     "text": [
      "Clustering took 43.72 seconds.\n",
      "Epsilon: 0.10222222222222221\n",
      "Total 2 clusters found\n",
      "Still 1719 docs in the BLOB\n",
      "There are 9 OUTLIERS\n",
      "\n",
      "\n"
     ]
    }
   ],
   "source": [
    "meta_eps = 0.10222222222222221\n",
    "\n",
    "start = time.time()\n",
    "df[\"Dbscan\"] = DBSCAN(eps=meta_eps, min_samples=3).fit_predict(matrix)\n",
    "print(\"Clustering took\", round(time.time() -start, 2), \"seconds.\")\n",
    "\n",
    "print(\"Epsilon:\", meta_eps)\n",
    "print(\"Total\", df[\"Dbscan\"].nunique(), \"clusters found\")\n",
    "print(\"Still\", df[\"Dbscan\"].value_counts()[0], \"docs in the BLOB\")\n",
    "print(\"There are\", df[\"Dbscan\"].value_counts()[-1], \"OUTLIERS\")\n",
    "for clusters in df[\"Dbscan\"].value_counts()[2:].value_counts().items():\n",
    "    print(\"Found\", clusters[1], \"clusters of\", clusters[0])\n",
    "print(\"\\n\")"
   ]
  },
  {
   "cell_type": "markdown",
   "metadata": {},
   "source": [
    "Clustering took 25.73 seconds.  \n",
    "Epsilon: 0.10222222222222221  \n",
    "Total 107 clusters found  \n",
    "Still 709 docs in the BLOB  \n",
    "There are 602 OUTLIERS  \n",
    "Found 46 clusters of 3  \n",
    "Found 34 clusters of 5  \n",
    "Found 23 clusters of 4  \n",
    "Found 1 clusters of 10  \n",
    "Found 1 clusters of 7  "
   ]
  },
  {
   "cell_type": "markdown",
   "metadata": {},
   "source": [
    "### Rerun\n",
    "Clustering the remaining docs in the **main blob**  \n",
    "Keep track of **true index** with *I to Idx dictionary*"
   ]
  },
  {
   "cell_type": "code",
   "execution_count": 202,
   "metadata": {},
   "outputs": [
    {
     "name": "stdout",
     "output_type": "stream",
     "text": [
      "Blob matrix shape: (709, 7146)\n",
      "Total elements: 5066514\n"
     ]
    }
   ],
   "source": [
    "cluster_ceil = df[\"Dbscan\"].max()\n",
    "blob = np.array(list(map(np.array, df[df[\"Dbscan\"]==0][\"Vector\"])))\n",
    "blob_dict = {i: idx for i, idx in enumerate(df[df[\"Dbscan\"]==0][\"Vector\"].index)}\n",
    "print(\"Blob matrix shape:\", blob.shape)\n",
    "print(\"Total elements:\", blob.shape[0] *blob.shape[1])"
   ]
  },
  {
   "cell_type": "raw",
   "metadata": {},
   "source": [
    "for eps in np.linspace(.04, .06, 4):\n",
    "    rerun = np.array(DBSCAN(eps=eps, min_samples=3).fit_predict(blob))\n",
    "    unique, counts = np.unique(rerun, return_counts=True)\n",
    "    cluster_counts = dict(zip(unique, counts))\n",
    "    print(\"Epsilon:\", eps)\n",
    "    print(\"Total\", len(cluster_counts), \"clusters found\")\n",
    "    print(\"Still\", cluster_counts[0], \"docs in the BLOB\")\n",
    "    print(\"There are\", cluster_counts[-1], \"OUTLIERS\")\n",
    "    del(cluster_counts[-1]); del(cluster_counts[0])\n",
    "    clustered = sum(cluster_counts.values())\n",
    "    for clusters in np.unique(list(cluster_counts.values())):\n",
    "        print(\"Found\", list(cluster_counts.values()).count(clusters), \"clusters, size\", clusters)\n",
    "    print(\"Blob reduced by\", round(clustered / len(rerun) * 100, 1), \"%\")\n",
    "    print(\"\\n\")"
   ]
  },
  {
   "cell_type": "markdown",
   "metadata": {},
   "source": [
    "Epsilon: 0.05333333333333333  \n",
    "Total 59 clusters found  \n",
    "Still 3 docs in the BLOB  \n",
    "There are 431 OUTLIERS  \n",
    "Found 28 clusters, size 3  \n",
    "Found 12 clusters, size 4  \n",
    "Found 15 clusters, size 5  \n",
    "Found 1 clusters, size 6  \n",
    "Found 1 clusters, size 62  \n",
    "Blob reduced by 38.8 %  "
   ]
  },
  {
   "cell_type": "markdown",
   "metadata": {},
   "source": [
    "#### ! Blob here isn't \"0\""
   ]
  },
  {
   "cell_type": "markdown",
   "metadata": {},
   "source": [
    "### Adjust blob cluster\n",
    "Make sure to **offset** the new clusters as to not overwrite"
   ]
  },
  {
   "cell_type": "code",
   "execution_count": 203,
   "metadata": {},
   "outputs": [],
   "source": [
    "meta_eps_blob = 0.05333333333333333\n",
    "\n",
    "rerun = np.array(DBSCAN(eps=meta_eps_blob, min_samples=3).fit_predict(blob))\n",
    "for i, cluster in enumerate(rerun):\n",
    "    df.loc[blob_dict[i], \"Dbscan\"] = cluster + cluster_ceil if cluster not in [-1, 0] else cluster"
   ]
  },
  {
   "cell_type": "markdown",
   "metadata": {},
   "source": [
    "# Evaluate"
   ]
  },
  {
   "cell_type": "code",
   "execution_count": 201,
   "metadata": {},
   "outputs": [
    {
     "name": "stdout",
     "output_type": "stream",
     "text": [
      "BEFORE RERUN\n",
      "\n",
      "Total 107 clusters found\n",
      "Still 709 docs in the BLOB\n",
      "There are 602 OUTLIERS\n",
      "Found 46 clusters of 3\n",
      "Found 34 clusters of 5\n",
      "Found 23 clusters of 4\n",
      "Found 1 clusters of 10\n",
      "Found 1 clusters of 7\n"
     ]
    }
   ],
   "source": [
    "print(\"BEFORE RERUN\\n\")\n",
    "print(\"Total\", df[\"Dbscan\"].nunique(), \"clusters found\")\n",
    "print(\"Still\", df[\"Dbscan\"].value_counts()[0], \"docs in the BLOB\")\n",
    "print(\"There are\", df[\"Dbscan\"].value_counts()[-1], \"OUTLIERS\")\n",
    "for clusters in df[\"Dbscan\"].value_counts()[2:].value_counts().items():\n",
    "    print(\"Found\", clusters[1], \"clusters of\", clusters[0])"
   ]
  },
  {
   "cell_type": "code",
   "execution_count": 204,
   "metadata": {},
   "outputs": [
    {
     "name": "stdout",
     "output_type": "stream",
     "text": [
      "AFTER RERUN\n",
      "\n",
      "Total 164 clusters found\n",
      "Still 3 docs in the BLOB\n",
      "There are 1033 OUTLIERS\n",
      "Found 75 clusters of 3\n",
      "Found 49 clusters of 5\n",
      "Found 35 clusters of 4\n",
      "Found 1 clusters of 10\n",
      "Found 1 clusters of 7\n",
      "Found 1 clusters of 6\n"
     ]
    }
   ],
   "source": [
    "print(\"AFTER RERUN\\n\")\n",
    "print(\"Total\", df[\"Dbscan\"].nunique(), \"clusters found\")\n",
    "print(\"Still\", df[\"Dbscan\"].value_counts()[0], \"docs in the BLOB\")\n",
    "print(\"There are\", df[\"Dbscan\"].value_counts()[-1], \"OUTLIERS\")\n",
    "for clusters in df[\"Dbscan\"].value_counts()[2:].value_counts().items():\n",
    "    print(\"Found\", clusters[1], \"clusters of\", clusters[0])"
   ]
  },
  {
   "cell_type": "markdown",
   "metadata": {},
   "source": [
    "# Find optimal eps for 10% outliers"
   ]
  },
  {
   "cell_type": "code",
   "execution_count": null,
   "metadata": {},
   "outputs": [],
   "source": [
    "    eps = start_eps = .15\n",
    "    percent_10 = len(df) / 15\n",
    "\n",
    "    df[\"Label\"] = [0 for i in range(len(df))]\n",
    "    cluster_ceil = df[\"Label\"].max()\n",
    "\n",
    "    inner, outer = 0, 1\n",
    "    while True:\n",
    "        print(\"Iteration -\", outer, \"\\n\")\n",
    "        i_to_idx = {i: idx for i, idx in enumerate(df[df[\"Label\"]==0][\"Vector\"].index)}\n",
    "        blob = np.array(list(map(np.array, df[df[\"Label\"]==0][\"Vector\"])))\n",
    "\n",
    "        dbscan = None\n",
    "        while True:\n",
    "            dbscan = DBSCAN(eps=eps, min_samples=3).fit_predict(blob)\n",
    "            cluster_count = dict(zip(*np.unique(dbscan, return_counts=True)))\n",
    "\n",
    "            print(\"Reduction\", f\"{outer}.{inner}\")\n",
    "            print(\"Epsilon:\", eps)\n",
    "            print(\"Clusters:\", len(cluster_count))\n",
    "            print(\"Blob:\", cluster_count[0])\n",
    "            print(\"Out:\", cluster_count[-1], \"\\n\")\n",
    "\n",
    "            if cluster_count[-1] < percent_10:\n",
    "                break\n",
    "\n",
    "            eps += .01\n",
    "            inner += 1\n",
    "\n",
    "        for i, cluster in enumerate(dbscan):\n",
    "            df.loc[i_to_idx[i], \"Label\"] = cluster + cluster_ceil if cluster not in [-1, 0] else cluster        \n",
    "        cluster_ceil = df[\"Label\"].max()\n",
    "\n",
    "        print(\"Blob:\",df[\"Label\"].value_counts()[0], \"Out:\", df[\"Label\"].value_counts()[-1])\n",
    "        for clusters in df[\"Label\"].value_counts().drop([-1, 0]).value_counts().items():\n",
    "            print(\"Found\", clusters[1], \"clusters of\", clusters[0])\n",
    "        print(\"\\n\")\n",
    "\n",
    "        outer += 1\n",
    "        inner = 0\n",
    "        \n",
    "        if eps == start_eps: eps = start_eps = start_eps - .03\n",
    "        else: eps = start_eps\n",
    "        if eps <= 0: break"
   ]
  },
  {
   "cell_type": "code",
   "execution_count": 308,
   "metadata": {},
   "outputs": [],
   "source": [
    "df.drop(columns=df.columns[2:-1]).to_csv(\"labeled.csv\")"
   ]
  }
 ],
 "metadata": {
  "kernelspec": {
   "display_name": "Python 3",
   "language": "python",
   "name": "python3"
  },
  "language_info": {
   "codemirror_mode": {
    "name": "ipython",
    "version": 3
   },
   "file_extension": ".py",
   "mimetype": "text/x-python",
   "name": "python",
   "nbconvert_exporter": "python",
   "pygments_lexer": "ipython3",
   "version": "3.7.6"
  }
 },
 "nbformat": 4,
 "nbformat_minor": 4
}
