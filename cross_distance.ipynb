{
 "cells": [
  {
   "cell_type": "code",
   "execution_count": 1,
   "metadata": {},
   "outputs": [],
   "source": [
    "import pandas as pd\n",
    "import numpy as np\n",
    "import swifter\n",
    "import json\n",
    "import math\n",
    "import time\n",
    "import ast\n",
    "import re\n",
    "\n",
    "import matplotlib.pyplot as plt\n",
    "from mpl_toolkits.mplot3d import Axes3D\n",
    "\n",
    "from sklearn.cluster import DBSCAN"
   ]
  },
  {
   "cell_type": "code",
   "execution_count": 4,
   "metadata": {},
   "outputs": [],
   "source": [
    "with open(\"backup/dictionary.json\") as file:\n",
    "    dictionary =      {int(k):v for k,v in json.load(file).items()}\n",
    "with open(\"backup/dictionary_rev.json\") as file:\n",
    "    dictionary_rev =  {k:int(v) for k,v in json.load(file).items()}\n",
    "with open(\"backup/docs_containing.json\") as file:\n",
    "    docs_containing = {int(k):v for k,v in json.load(file).items()}\n",
    "with open(\"backup/dict_idf.json\") as file:\n",
    "    dict_idf =        {int(k):v for k,v in json.load(file).items()}"
   ]
  },
  {
   "cell_type": "code",
   "execution_count": 2,
   "metadata": {},
   "outputs": [
    {
     "data": {
      "application/vnd.jupyter.widget-view+json": {
       "model_id": "ce263c7a52184e0ab4efcb12fbb48a66",
       "version_major": 2,
       "version_minor": 0
      },
      "text/plain": [
       "HBox(children=(FloatProgress(value=0.0, description='Pandas Apply', max=10368.0, style=ProgressStyle(descripti…"
      ]
     },
     "metadata": {},
     "output_type": "display_data"
    },
    {
     "name": "stdout",
     "output_type": "stream",
     "text": [
      "\n"
     ]
    }
   ],
   "source": [
    "df = pd.read_csv(\"backup/tfidf.csv\", index_col=0).drop(columns=\"File\")\n",
    "df.iloc[:, 1:] = df.iloc[:,1:].swifter.applymap(ast.literal_eval)"
   ]
  },
  {
   "cell_type": "code",
   "execution_count": 5,
   "metadata": {},
   "outputs": [
    {
     "name": "stdout",
     "output_type": "stream",
     "text": [
      "Top 10 collection contains 7146 unique tokens.. 10.99 % of total dictionary\n"
     ]
    }
   ],
   "source": [
    "df[\"Top10\"] = df[\"TFIDF\"].apply(lambda x:\n",
    "    dict(sorted(x.items(), key=lambda i:i[1])[::-1][:10])\n",
    ")\n",
    "\n",
    "top10_collection = []\n",
    "for idx in df.index:\n",
    "    top10_collection.extend(df.loc[idx, \"Top10\"])\n",
    "top10_collection = sorted(set(top10_collection))\n",
    "\n",
    "print(\"Top 10 collection contains\", len(top10_collection), \"unique tokens..\",\n",
    "      round(len(top10_collection)/len(dictionary)*100, 2), \"% of total dictionary\")"
   ]
  },
  {
   "cell_type": "code",
   "execution_count": 6,
   "metadata": {},
   "outputs": [
    {
     "data": {
      "application/vnd.jupyter.widget-view+json": {
       "model_id": "65d289e17bb44a12b859af5b6cba0500",
       "version_major": 2,
       "version_minor": 0
      },
      "text/plain": [
       "HBox(children=(FloatProgress(value=0.0, description='Pandas Apply', max=1728.0, style=ProgressStyle(descriptio…"
      ]
     },
     "metadata": {},
     "output_type": "display_data"
    },
    {
     "name": "stdout",
     "output_type": "stream",
     "text": [
      "\n"
     ]
    }
   ],
   "source": [
    "collections = {\"Top10\" : top10_collection}\n",
    "def set_vector(top_x: str=\"Top10\") -> None:\n",
    "    df[\"Vector\"] = df[top_x].swifter.apply(lambda x: \n",
    "        list(map(lambda idx: x[idx] if idx in x else 0, collections[top_x])))\n",
    "    \n",
    "set_vector(\"Top10\")\n",
    "matrix = np.array(list(map(np.array, df[\"Vector\"])))"
   ]
  },
  {
   "cell_type": "code",
   "execution_count": 7,
   "metadata": {},
   "outputs": [],
   "source": [
    "non_zero_idxs_matrix = np.array([\n",
    "    np.nonzero(arr)[0]\n",
    "    for arr in matrix\n",
    "])\n",
    "\n",
    "def sparse_vector_distance(idx_a, idx_b):\n",
    "    idx_concat = np.concatenate((\n",
    "        non_zero_idxs_matrix[idx_a],\n",
    "        non_zero_idxs_matrix[idx_b]))\n",
    "    \n",
    "    return math.sqrt(sum(map(\n",
    "        lambda x: (x[1]-x[0])**2, \n",
    "        zip(matrix[idx_a][idx_concat],\n",
    "            matrix[idx_b][idx_concat])\n",
    "    )))"
   ]
  },
  {
   "cell_type": "code",
   "execution_count": 8,
   "metadata": {},
   "outputs": [
    {
     "name": "stdout",
     "output_type": "stream",
     "text": [
      "Took 75.7 seconds.\n"
     ]
    }
   ],
   "source": [
    "start = time.time()\n",
    "cross_distance_matrix = np.array([\n",
    "    sparse_vector_distance(i, ii)\n",
    "    for i in range(len(matrix))\n",
    "    for ii in range(len(matrix))\n",
    "]).reshape(len(matrix),len(matrix))\n",
    "print(\"Took\", round(time.time() -start, 2), \"seconds.\")"
   ]
  },
  {
   "cell_type": "code",
   "execution_count": 215,
   "metadata": {},
   "outputs": [
    {
     "data": {
      "image/png": "[encoded data removed]",
      "text/plain": [
       "<Figure size 432x288 with 1 Axes>"
      ]
     },
     "metadata": {
      "needs_background": "light"
     },
     "output_type": "display_data"
    }
   ],
   "source": [
    "plt.hist(cross_distance_matrix.flatten(), bins=100)\n",
    "plt.ylim(0,1000)\n",
    "plt.show()"
   ]
  },
  {
   "cell_type": "code",
   "execution_count": 218,
   "metadata": {},
   "outputs": [
    {
     "data": {
      "text/plain": [
       "{-1: 1, 0: 1727}"
      ]
     },
     "execution_count": 218,
     "metadata": {},
     "output_type": "execute_result"
    }
   ],
   "source": [
    "dbscan = DBSCAN(eps=.8).fit_predict(matrix)\n",
    "dict(zip(*np.unique(dbscan, return_counts=True)))"
   ]
  },
  {
   "cell_type": "code",
   "execution_count": 228,
   "metadata": {},
   "outputs": [
    {
     "data": {
      "text/plain": [
       "1.389044460289989"
      ]
     },
     "execution_count": 228,
     "metadata": {},
     "output_type": "execute_result"
    }
   ],
   "source": [
    "argmax = cross_distance_matrix.reshape(len(matrix),len(matrix)).argmax()\n",
    "cross_distance_matrix[argmax // len(matrix), argmax % len(matrix)]"
   ]
  },
  {
   "cell_type": "code",
   "execution_count": null,
   "metadata": {},
   "outputs": [],
   "source": []
  },
  {
   "cell_type": "code",
   "execution_count": 246,
   "metadata": {},
   "outputs": [],
   "source": [
    "min_distances = [\n",
    "    np.min(cross_distance_matrix[i][np.nonzero(cross_distance_matrix[i])])\n",
    "    for i in range(len(cross_distance_matrix))\n",
    "]\n",
    "median_distances = [\n",
    "    np.median(cross_distance_matrix[i][np.nonzero(cross_distance_matrix[i])])\n",
    "    for i in range(len(cross_distance_matrix))\n",
    "]"
   ]
  },
  {
   "cell_type": "code",
   "execution_count": 252,
   "metadata": {
    "cell_style": "split"
   },
   "outputs": [
    {
     "data": {
      "text/plain": [
       "[(0.03, 247),\n",
       " (0.04, 218),\n",
       " (0.02, 176),\n",
       " (0.05, 142),\n",
       " (0.06, 128),\n",
       " (0.07, 107),\n",
       " (0.08, 95),\n",
       " (0.1, 67),\n",
       " (0.11, 65),\n",
       " (0.12, 61)]"
      ]
     },
     "execution_count": 252,
     "metadata": {},
     "output_type": "execute_result"
    }
   ],
   "source": [
    "unique, counts = np.unique(\n",
    "    list(map(\n",
    "        lambda x: round(x, 2), \n",
    "        min_distances\n",
    ")), return_counts=True)\n",
    "\n",
    "sorted(\n",
    "    zip(unique, counts),\n",
    "    key=lambda x:x[1]\n",
    ")[::-1][:10]"
   ]
  },
  {
   "cell_type": "code",
   "execution_count": 251,
   "metadata": {
    "cell_style": "split"
   },
   "outputs": [
    {
     "data": {
      "text/plain": [
       "[(0.16, 225),\n",
       " (0.17, 213),\n",
       " (0.14, 213),\n",
       " (0.15, 206),\n",
       " (0.13, 166),\n",
       " (0.18, 143),\n",
       " (0.19, 131),\n",
       " (0.2, 99),\n",
       " (0.21, 82),\n",
       " (0.22, 55)]"
      ]
     },
     "execution_count": 251,
     "metadata": {},
     "output_type": "execute_result"
    }
   ],
   "source": [
    "unique, counts = np.unique(\n",
    "    list(map(\n",
    "        lambda x: round(x, 2), \n",
    "        median_distances\n",
    ")), return_counts=True)\n",
    "\n",
    "sorted(\n",
    "    zip(unique, counts),\n",
    "    key=lambda x:x[1]\n",
    ")[::-1][:10]"
   ]
  },
  {
   "cell_type": "code",
   "execution_count": 297,
   "metadata": {
    "cell_style": "split"
   },
   "outputs": [
    {
     "data": {
      "image/png": "[encoded data removed]",
      "text/plain": [
       "<Figure size 432x288 with 1 Axes>"
      ]
     },
     "metadata": {
      "needs_background": "light"
     },
     "output_type": "display_data"
    }
   ],
   "source": [
    "sn.distplot(min_distances)\n",
    "plt.xlim(-.01, .4)\n",
    "plt.show()"
   ]
  },
  {
   "cell_type": "code",
   "execution_count": 298,
   "metadata": {
    "cell_style": "split"
   },
   "outputs": [
    {
     "data": {
      "image/png": "[encoded data removed]",
      "text/plain": [
       "<Figure size 432x288 with 1 Axes>"
      ]
     },
     "metadata": {
      "needs_background": "light"
     },
     "output_type": "display_data"
    }
   ],
   "source": [
    "sn.distplot(median_distances)\n",
    "plt.xlim(-.01, .4)\n",
    "plt.show()"
   ]
  },
  {
   "cell_type": "code",
   "execution_count": 285,
   "metadata": {
    "cell_style": "split"
   },
   "outputs": [
    {
     "data": {
      "image/png": "[encoded data removed]",
      "text/plain": [
       "<Figure size 432x288 with 1 Axes>"
      ]
     },
     "metadata": {
      "needs_background": "light"
     },
     "output_type": "display_data"
    }
   ],
   "source": [
    "    plt.hist(\n",
    "        min_distances,\n",
    "        bins=200,\n",
    "        histtype=u'step'\n",
    "    )\n",
    "    plt.xlim(-.01, .4)\n",
    "    plt.show()"
   ]
  },
  {
   "cell_type": "code",
   "execution_count": 286,
   "metadata": {
    "cell_style": "split"
   },
   "outputs": [
    {
     "data": {
      "image/png": "[encoded data removed]",
      "text/plain": [
       "<Figure size 432x288 with 1 Axes>"
      ]
     },
     "metadata": {
      "needs_background": "light"
     },
     "output_type": "display_data"
    }
   ],
   "source": [
    "plt.hist(\n",
    "    median_distances,\n",
    "    bins=200,\n",
    "    histtype=u'step'\n",
    ")\n",
    "plt.xlim(-.01, .4)\n",
    "plt.show()"
   ]
  },
  {
   "cell_type": "code",
   "execution_count": 282,
   "metadata": {},
   "outputs": [],
   "source": [
    "dbscan = DBSCAN(eps=0.17).fit_predict(matrix)"
   ]
  },
  {
   "cell_type": "code",
   "execution_count": 283,
   "metadata": {},
   "outputs": [
    {
     "data": {
      "text/plain": [
       "{-1: 193, 0: 1520, 1: 5, 2: 5, 3: 5}"
      ]
     },
     "execution_count": 283,
     "metadata": {},
     "output_type": "execute_result"
    }
   ],
   "source": [
    "dict(zip(*np.unique(dbscan, return_counts=True)))"
   ]
  }
 ],
 "metadata": {
  "kernelspec": {
   "display_name": "Python 3",
   "language": "python",
   "name": "python3"
  },
  "language_info": {
   "codemirror_mode": {
    "name": "ipython",
    "version": 3
   },
   "file_extension": ".py",
   "mimetype": "text/x-python",
   "name": "python",
   "nbconvert_exporter": "python",
   "pygments_lexer": "ipython3",
   "version": "3.7.6"
  }
 },
 "nbformat": 4,
 "nbformat_minor": 4
}
